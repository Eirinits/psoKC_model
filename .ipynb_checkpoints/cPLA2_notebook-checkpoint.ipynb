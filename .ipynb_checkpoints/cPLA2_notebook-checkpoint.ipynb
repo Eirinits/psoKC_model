{
 "cells": [
  {
   "cell_type": "markdown",
   "metadata": {},
   "source": [
    "# Logical modeling of cPLA2-induced inflammation upon activation of immune system receptors"
   ]
  },
  {
   "cell_type": "markdown",
   "metadata": {},
   "source": [
    "This notebook is created for the reproducible analysis of the cPLA2 model using the software tools developed by the Colomoto Consortium. "
   ]
  },
  {
   "cell_type": "markdown",
   "metadata": {},
   "source": [
    "### Imports and model loading with GINsim\n",
    "The first thing to do is to import the necessary tools for performing our analysis."
   ]
  },
  {
   "cell_type": "code",
   "execution_count": null,
   "metadata": {},
   "outputs": [],
   "source": [
    "import ginsim \n",
    "import biolqm\n",
    "import maboss\n",
    "import pypint\n",
    "from colomoto_jupyter import tabulate\n",
    "from colomoto.temporal_logics import *\n",
    "from itertools import combinations\n",
    "from functools import reduce\n",
    "\n",
    "import sys\n",
    "import matplotlib as mpl\n",
    "import matplotlib.pyplot as plt\n",
    "import pandas as pd\n",
    "import numpy as np\n",
    "from pandas import DataFrame"
   ]
  },
  {
   "cell_type": "markdown",
   "metadata": {},
   "source": [
    "## The core cPLA2 network"
   ]
  },
  {
   "cell_type": "markdown",
   "metadata": {},
   "source": [
    "### Load and visualize network"
   ]
  },
  {
   "cell_type": "code",
   "execution_count": null,
   "metadata": {},
   "outputs": [],
   "source": [
    "lrg = ginsim.load()\n",
    "\n",
    "sys.displayhook(ginsim.show(lrg))"
   ]
  },
  {
   "cell_type": "markdown",
   "metadata": {},
   "source": [
    "### Identification of attractors (bioLQM)"
   ]
  },
  {
   "cell_type": "code",
   "execution_count": null,
   "metadata": {},
   "outputs": [],
   "source": [
    "'''Convert ginsim model to a biolqm compliant model '''\n",
    "lqm = ginsim.to_biolqm(lrg)"
   ]
  },
  {
   "cell_type": "markdown",
   "metadata": {},
   "source": [
    "### Visualization of attractors\n",
    "\n",
    "We visualise each stable state obtained in a graph that highlights the active components (yellow nodes) and the trajectories (blue arcs) taken with a GINsim function. "
   ]
  },
  {
   "cell_type": "code",
   "execution_count": null,
   "metadata": {},
   "outputs": [],
   "source": [
    "'''Compute stable states'''\n",
    "fixpoints = biolqm.fixpoints(lqm)\n",
    "tabulate(fixpoints)\n",
    "\n",
    "'''Visualisation'''\n",
    "sys.displayhook((ginsim.show(lrg, fixpoints[0])))\n",
    "sys.displayhook((ginsim.show(lrg, fixpoints[1])))"
   ]
  },
  {
   "cell_type": "markdown",
   "metadata": {},
   "source": [
    "The model is able to reach two pre-defined states, representing two alternative cell fates; resolution of inflammation and apoptosis. \n",
    "\n",
    "As a next step the trap spaaces were calculated, in order to identify cyclic attractors from which the model cannot escape (*ref* [Zanudo 2013](https://arxiv.org/abs/1304.3467) and [Klarner 2014](https://link.springer.com/chapter/10.1007/978-3-319-11520-7_59)). At trap spaces, some of the model's components will have a fixed value while other will oscilate. As inflammation is a dynamic process and contains multiple feedback loops, we expect that state to represented as a trap space. "
   ]
  },
  {
   "cell_type": "code",
   "execution_count": null,
   "metadata": {},
   "outputs": [],
   "source": [
    "'''Compute trap space analysis'''\n",
    "traps = biolqm.trapspace(lqm)\n",
    "tabulate(traps)"
   ]
  },
  {
   "cell_type": "markdown",
   "metadata": {},
   "source": [
    "### Perturbation analysis"
   ]
  },
  {
   "cell_type": "markdown",
   "metadata": {},
   "source": [
    "In the following section of the analysis, a series of perturbations collected by the literature were simulated in order to evaluate the ability to perform in accordance with biological reality."
   ]
  },
  {
   "cell_type": "markdown",
   "metadata": {},
   "source": [
    "*Perturbation 1: cPLA2 knock-out"
   ]
  },
  {
   "cell_type": "code",
   "execution_count": null,
   "metadata": {},
   "outputs": [],
   "source": [
    "'''Define the list of perturbations to be tested'''\n",
    "\n",
    "node_list = []\n",
    "\n",
    "perturbations = [\"cPLA2%0\",\n",
    "                \"NFkB%0\"]"
   ]
  },
  {
   "cell_type": "code",
   "execution_count": null,
   "metadata": {},
   "outputs": [],
   "source": [
    "'''Define dictionaries to store attractors for each perturbation'''\n",
    "fixpointlist = {}\n",
    "\n",
    "'''trapspacelist is used for perturbations where no stable state is found\n",
    "    to find eventual cyclic attractors.'''\n",
    "trapspacelist = {}\n",
    "\n",
    "for p in perturbations:\n",
    "    fixpoints = biolqm.fixpoints(biolqm.perturbation(lqm, p))\n",
    "    if(fixpoints):\n",
    "        fixpointlist[p] = fixpoints\n",
    "    else:\n",
    "        '''No stable state found, so we look for cycles'''\n",
    "        trapspace = biolqm.trapspace(biolqm.perturbation(lqm, p))\n",
    "        trapspacelist[p] = trapspace\n",
    "\n",
    "'''uncomment to see attractors in tabulated tables for each perturbation\n",
    "for k, v in fixpointlist.items():\n",
    "    print(k)\n",
    "    sys.displayhook(tabulate(v))\n",
    "    print()\n",
    "    \n",
    "for k, v in trapspacelist.items():\n",
    "    print(k)\n",
    "    sys.displayhook(tabulate(v))\n",
    "    print()'''"
   ]
  },
  {
   "cell_type": "code",
   "execution_count": null,
   "metadata": {},
   "outputs": [],
   "source": [
    "import seaborn as sns\n",
    "\n",
    "'''List of perturbations with the nb of stable states '''\n",
    "perturbstates=[]\n",
    "trappedstates=[]\n",
    "\n",
    "'''List of table state values same order as perturbStates'''\n",
    "stablestates = [] \n",
    "tstates = [] \n",
    "\n",
    "'''List of nodes'''\n",
    "nodelist = ['CycD', 'Rb', 'E2F', 'CycE', 'CycA', 'CycB', 'p27', 'Cdc20', 'Cdh1', 'UbcH10', 'Skp2']\n",
    "\n",
    "for k,v in fixpointlist.items():   \n",
    "    for i in range(0,len(v)):\n",
    "        listSS = []\n",
    "        for key, val in v[i].items():\n",
    "            listSS.append(val)\n",
    "        stablestates.append(listSS)\n",
    "        perturbstates.append(str(k)+' '+str(i))\n",
    "\n",
    "'''Create dataframe: columns = nodes, rows = perturbations'''\n",
    "df = DataFrame(data=stablestates)\n",
    "df.columns = nodelist\n",
    "df.index = perturbstates\n",
    "\n",
    "'''Generate clustered heatmap'''\n",
    "cm = sns.clustermap(df, metric='euclidean', cmap = 'Reds', yticklabels=True)\n",
    "cm.fig.suptitle('Clustered heatmap of each stable states found for each perturbation')"
   ]
  },
  {
   "cell_type": "code",
   "execution_count": null,
   "metadata": {},
   "outputs": [],
   "source": [
    "'''Repeat previous analysis for the trap space data'''\n",
    "for k,v in trapspacelist.items():   \n",
    "    for i in range(0,len(v)):\n",
    "        listSS = []\n",
    "        for key, val in v[i].items():\n",
    "            if val == 255:\n",
    "                val = 5\n",
    "            listSS.append(val)\n",
    "        tstates.append(listSS)\n",
    "        trappedstates.append(str(k)+' '+str(i))\n",
    "\n",
    "'''List of nodes in the trap space: multi valued components are expanded into several nodes'''        \n",
    "nodelistT = ['CycD', 'Rb_b1', 'Rb_b2', 'E2F', 'CycE', 'CycA', 'CycB', 'p27_b1', 'p27_b2', 'Cdc20', 'Cdh1', 'UbcH10', 'Skp2']\n",
    "\n",
    "df2 = DataFrame(data=tstates)\n",
    "df2.columns = nodelistT\n",
    "df2.index = trappedstates\n",
    "cm2 = sns.clustermap(df2, metric='euclidean', cmap = 'Reds', yticklabels=True)\n",
    "cm2.fig.suptitle('Clustered heatmap of each cyclic attractors found for perturbations not leading to a stable state')"
   ]
  }
 ],
 "metadata": {
  "kernelspec": {
   "display_name": "Python 3",
   "language": "python",
   "name": "python3"
  },
  "language_info": {
   "codemirror_mode": {
    "name": "ipython",
    "version": 3
   },
   "file_extension": ".py",
   "mimetype": "text/x-python",
   "name": "python",
   "nbconvert_exporter": "python",
   "pygments_lexer": "ipython3",
   "version": "3.7.6"
  }
 },
 "nbformat": 4,
 "nbformat_minor": 2
}
